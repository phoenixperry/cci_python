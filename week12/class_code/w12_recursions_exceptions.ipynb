{
  "nbformat": 4,
  "nbformat_minor": 0,
  "metadata": {
    "colab": {
      "name": "w12_recursions_exceptions.ipynb",
      "provenance": [],
      "collapsed_sections": []
    },
    "kernelspec": {
      "name": "python3",
      "display_name": "Python 3"
    }
  },
  "cells": [
    {
      "cell_type": "markdown",
      "metadata": {
        "id": "pfBQcQJZHRAH",
        "colab_type": "text"
      },
      "source": [
        "# Recursion:"
      ]
    },
    {
      "cell_type": "markdown",
      "metadata": {
        "id": "K2xvp9AYGyof",
        "colab_type": "text"
      },
      "source": [
        "Fibonacci ~ https://en.wikipedia.org/wiki/Fibonacci_number"
      ]
    },
    {
      "cell_type": "code",
      "metadata": {
        "id": "Ybmmr7jXF2UR",
        "colab_type": "code",
        "colab": {
          "base_uri": "https://localhost:8080/",
          "height": 193
        },
        "outputId": "650b601d-84f0-446a-f1ad-4ea6a1ebac8f"
      },
      "source": [
        "\n",
        "# f(n) = f(n-1) + f(n-2)\n",
        "# f(0) = 1\n",
        "# f(1) = 1\n",
        "\n",
        "# Remove the prints if you want a non debug version ~\n",
        "\n",
        "def fib(n):\n",
        "   if n == 0 or n == 1:\n",
        "      print(\"fib\", n, \"is directly returned as\", 1)\n",
        "      return 1\n",
        "\n",
        "   print(\"fib\", n, \"calls fib\", n-1, \"and fib\", n-2)\n",
        "   \n",
        "   return fib( n-1 ) + fib( n-2 )\n",
        "\n",
        "print(fib(4))"
      ],
      "execution_count": 12,
      "outputs": [
        {
          "output_type": "stream",
          "text": [
            "fib 4 calls fib 3 and fib 2\n",
            "fib 3 calls fib 2 and fib 1\n",
            "fib 2 calls fib 1 and fib 0\n",
            "fib 1 is directly returned as 1\n",
            "fib 0 is directly returned as 1\n",
            "fib 1 is directly returned as 1\n",
            "fib 2 calls fib 1 and fib 0\n",
            "fib 1 is directly returned as 1\n",
            "fib 0 is directly returned as 1\n",
            "5\n"
          ],
          "name": "stdout"
        }
      ]
    },
    {
      "cell_type": "markdown",
      "metadata": {
        "id": "BLrgZ18eHUWx",
        "colab_type": "text"
      },
      "source": [
        "# Exceptions:"
      ]
    },
    {
      "cell_type": "markdown",
      "metadata": {
        "id": "Ed7VjGUGHzcE",
        "colab_type": "text"
      },
      "source": [
        "Exceptions are useful way how to catch errors and how to react to them:"
      ]
    },
    {
      "cell_type": "code",
      "metadata": {
        "id": "5vxDaGdhHVd4",
        "colab_type": "code",
        "colab": {
          "base_uri": "https://localhost:8080/",
          "height": 70
        },
        "outputId": "e0be33db-5b2a-4d61-fb1e-54063f8b75d9"
      },
      "source": [
        "try:\n",
        "    # here we expect something to break!\n",
        "    x = int(input(\"please enter a number: \"))\n",
        "\n",
        "except Exception as e:\n",
        "    print(\"We encountered error!\", e)\n",
        "    # so we better give some default value for x, for example:\n",
        "    x = -1\n",
        "\n",
        "print(\"x = \",x)"
      ],
      "execution_count": 6,
      "outputs": [
        {
          "output_type": "stream",
          "text": [
            "please enter a number: Bob!\n",
            "We encountered error! invalid literal for int() with base 10: 'Bob!'\n",
            "x =  -1\n"
          ],
          "name": "stdout"
        }
      ]
    }
  ]
}