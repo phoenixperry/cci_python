{
  "nbformat": 4,
  "nbformat_minor": 0,
  "metadata": {
    "colab": {
      "name": "0_demo_loading_text.ipynb",
      "provenance": [],
      "collapsed_sections": []
    },
    "kernelspec": {
      "name": "python3",
      "display_name": "Python 3"
    }
  },
  "cells": [
    {
      "cell_type": "code",
      "metadata": {
        "id": "BqlzdCBSEANX",
        "colab_type": "code",
        "colab": {}
      },
      "source": [
        "#!wget https://www.gutenberg.org/files/345/345.txt"
      ],
      "execution_count": 0,
      "outputs": []
    },
    {
      "cell_type": "code",
      "metadata": {
        "id": "7VpGq8BTA34F",
        "colab_type": "code",
        "colab": {}
      },
      "source": [
        "infile = open(\"dracula.txt\", \"r\")\n",
        "filestring = infile.read()\n",
        "infile.close()"
      ],
      "execution_count": 0,
      "outputs": []
    },
    {
      "cell_type": "code",
      "metadata": {
        "id": "RdDMCkqtBB2R",
        "colab_type": "code",
        "colab": {}
      },
      "source": [
        "print(filestring)"
      ],
      "execution_count": 0,
      "outputs": []
    },
    {
      "cell_type": "code",
      "metadata": {
        "id": "ZAx-ZYjMBIsn",
        "colab_type": "code",
        "colab": {}
      },
      "source": [
        "# in words:\n",
        "words = filestring.split()"
      ],
      "execution_count": 0,
      "outputs": []
    },
    {
      "cell_type": "code",
      "metadata": {
        "id": "xss1caVOBLBS",
        "colab_type": "code",
        "colab": {}
      },
      "source": [
        "for word in words:\n",
        "    print(word)"
      ],
      "execution_count": 0,
      "outputs": []
    },
    {
      "cell_type": "code",
      "metadata": {
        "id": "BuokRh5QBCOw",
        "colab_type": "code",
        "colab": {}
      },
      "source": [
        "# in sentences ?\n",
        "# \n",
        "sentences1 = filestring.split(\".\")\n",
        "\n",
        "# dark magicks!\n",
        "#import re\n",
        "#sentences2 = re.split(r' *[\\.\\?!][\\'\"\\)\\]]* *', filestring)\n"
      ],
      "execution_count": 0,
      "outputs": []
    },
    {
      "cell_type": "code",
      "metadata": {
        "id": "qCPKGxgZBS6-",
        "colab_type": "code",
        "colab": {}
      },
      "source": [
        "for sentence in sentences1:\n",
        "    print(\">>\", sentence)"
      ],
      "execution_count": 0,
      "outputs": []
    },
    {
      "cell_type": "code",
      "metadata": {
        "id": "f919Hm9tBfNn",
        "colab_type": "code",
        "colab": {}
      },
      "source": [
        "#for sentence in sentences2:\n",
        "#    print(\">>\", sentence)"
      ],
      "execution_count": 0,
      "outputs": []
    },
    {
      "cell_type": "code",
      "metadata": {
        "id": "ljr6Lr5cBZKM",
        "colab_type": "code",
        "colab": {}
      },
      "source": [
        "# in paragraphs?\n",
        "paragraphs = filestring.split(\"\\n\\n\") # depends on how your text is written!"
      ],
      "execution_count": 0,
      "outputs": []
    },
    {
      "cell_type": "code",
      "metadata": {
        "id": "snIhvxiuB3PA",
        "colab_type": "code",
        "colab": {}
      },
      "source": [
        "for paragraph in paragraphs:\n",
        "    print(\">> \",paragraph)"
      ],
      "execution_count": 0,
      "outputs": []
    }
  ]
}