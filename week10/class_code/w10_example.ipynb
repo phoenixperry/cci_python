{
  "nbformat": 4,
  "nbformat_minor": 0,
  "metadata": {
    "colab": {
      "name": "w10.ipynb",
      "provenance": []
    },
    "kernelspec": {
      "name": "python3",
      "display_name": "Python 3"
    }
  },
  "cells": [
    {
      "cell_type": "code",
      "metadata": {
        "id": "ej2rHqtRMoah",
        "colab_type": "code",
        "colab": {
          "base_uri": "https://localhost:8080/",
          "height": 123
        },
        "outputId": "5263a9dc-4edc-48a2-d71a-a399cbb0b28e"
      },
      "source": [
        "class Point:\n",
        "    \"\"\" Point class for representing and manipulating x,y coordinates. \"\"\"\n",
        "\n",
        "    def __init__(self, x = 0, y = 0):\n",
        "        \"\"\" Create a new point at the origin \"\"\"\n",
        "        print(\"I am being constructed!\")\n",
        "        self.x = x\n",
        "        self.y = y\n",
        "\n",
        "    def report(self):\n",
        "        print(\"Hello I am a Point at <\", self.x, \",\", self.y, \">\")\n",
        "\n",
        "p0 = Point()\n",
        "p0.report()\n",
        "\n",
        "p1 = Point(10, 5)\n",
        "p1.report()\n",
        "\n",
        "p2 = Point(-3, 0)\n",
        "p2.report()\n"
      ],
      "execution_count": 15,
      "outputs": [
        {
          "output_type": "stream",
          "text": [
            "I am being constructed!\n",
            "Hello I am a Point at < 0 , 0 >\n",
            "I am being constructed!\n",
            "Hello I am a Point at < 10 , 5 >\n",
            "I am being constructed!\n",
            "Hello I am a Point at < -3 , 0 >\n"
          ],
          "name": "stdout"
        }
      ]
    }
  ]
}