{
  "nbformat": 4,
  "nbformat_minor": 0,
  "metadata": {
    "colab": {
      "name": "w9_dictionaries.ipynb",
      "provenance": [],
      "collapsed_sections": [
        "nUgCx3rD9PzR"
      ]
    },
    "kernelspec": {
      "name": "python3",
      "display_name": "Python 3"
    }
  },
  "cells": [
    {
      "cell_type": "markdown",
      "metadata": {
        "id": "DvH7k4L77Qxg",
        "colab_type": "text"
      },
      "source": [
        "# 1 Code examples:"
      ]
    },
    {
      "cell_type": "markdown",
      "metadata": {
        "id": "8ZrfAd2x78bQ",
        "colab_type": "text"
      },
      "source": [
        "## 1.1 Basics with dictionaries"
      ]
    },
    {
      "cell_type": "markdown",
      "metadata": {
        "id": "V80UodIN7W-H",
        "colab_type": "text"
      },
      "source": [
        "What are dictionaries?"
      ]
    },
    {
      "cell_type": "code",
      "metadata": {
        "id": "oqdvPUxxx8tG",
        "colab_type": "code",
        "colab": {}
      },
      "source": [
        "my_dictionary = {}\n",
        "\n",
        "my_dictionary[\"index\"] = \"item\"\n",
        "my_dictionary[1] = 32\n",
        "\n",
        "print(my_dictionary)\n",
        "\n",
        "#del my_dictionary[\"index\"]\n",
        "#print(my_dictionary)"
      ],
      "execution_count": 0,
      "outputs": []
    },
    {
      "cell_type": "markdown",
      "metadata": {
        "id": "TzmnmNI97gKY",
        "colab_type": "text"
      },
      "source": [
        "Dictionaries for translations:"
      ]
    },
    {
      "cell_type": "code",
      "metadata": {
        "id": "VT5Og4o0zn6c",
        "colab_type": "code",
        "colab": {}
      },
      "source": [
        "eng2cz = {}\n",
        "\n",
        "eng2cz[\"hello\"] = \"ahoj\"\n",
        "eng2cz[\"thursday\"] = \"čtvrtek\"\n",
        "eng2cz[\"icecream\"] = \"zmrzlina\"\n",
        "\n",
        "# ... continue\n",
        "word = \"hello\"\n",
        "if word in eng2cz:\n",
        "\tprint(word, \"is\", eng2cz[word], \"in Czech\")\n",
        "else:\n",
        "  print(\"Don't know that word!\")"
      ],
      "execution_count": 0,
      "outputs": []
    },
    {
      "cell_type": "markdown",
      "metadata": {
        "id": "vnVDmAFP7qth",
        "colab_type": "text"
      },
      "source": [
        "Special commands:"
      ]
    },
    {
      "cell_type": "code",
      "metadata": {
        "id": "TlOcDv3j1GPe",
        "colab_type": "code",
        "colab": {}
      },
      "source": [
        "print(eng2cz.keys())"
      ],
      "execution_count": 0,
      "outputs": []
    },
    {
      "cell_type": "code",
      "metadata": {
        "id": "LjVusBpx1SPJ",
        "colab_type": "code",
        "colab": {}
      },
      "source": [
        "print(eng2cz.items())"
      ],
      "execution_count": 0,
      "outputs": []
    },
    {
      "cell_type": "code",
      "metadata": {
        "id": "bNu0gRi07mt5",
        "colab_type": "code",
        "colab": {}
      },
      "source": [
        "print(eng2cz.values())"
      ],
      "execution_count": 0,
      "outputs": []
    },
    {
      "cell_type": "markdown",
      "metadata": {
        "id": "8959nM0N8FFh",
        "colab_type": "text"
      },
      "source": [
        "## 1.2 Basics with tuples"
      ]
    },
    {
      "cell_type": "markdown",
      "metadata": {
        "id": "ZQ-uoWTR7z6A",
        "colab_type": "text"
      },
      "source": [
        "Difference between tuples and lists:"
      ]
    },
    {
      "cell_type": "code",
      "metadata": {
        "id": "FbAl8TAr72B5",
        "colab_type": "code",
        "colab": {}
      },
      "source": [
        "my_tuple = (\"apples\", \"cinnamon\", \"red wine\")\n",
        "\n",
        "print(my_tuple) # works ok\n",
        "print(my_tuple[0]) # works ok"
      ],
      "execution_count": 0,
      "outputs": []
    },
    {
      "cell_type": "code",
      "metadata": {
        "id": "B5iEOxhO73yP",
        "colab_type": "code",
        "colab": {}
      },
      "source": [
        "my_tuple[2] = \"carrots\" # will cause an error!"
      ],
      "execution_count": 0,
      "outputs": []
    },
    {
      "cell_type": "markdown",
      "metadata": {
        "id": "jVc-uhsK8Uz4",
        "colab_type": "text"
      },
      "source": [
        "The same thing with a list ( notice the different brackets used **[ ]** ):"
      ]
    },
    {
      "cell_type": "code",
      "metadata": {
        "id": "SvmaDh2Z8SvZ",
        "colab_type": "code",
        "colab": {}
      },
      "source": [
        "my_list = [\"apples\", \"cinnamon\", \"red wine\"]\n",
        "\n",
        "print(my_list) # works ok\n",
        "print(my_list[0]) # works ok\n",
        "\n",
        "my_list[2] = \"carrots\"\n",
        "\n",
        "print(my_list)"
      ],
      "execution_count": 0,
      "outputs": []
    },
    {
      "cell_type": "markdown",
      "metadata": {
        "id": "9ksY8PYp8pIh",
        "colab_type": "text"
      },
      "source": [
        "## 1.3 Aliasing demo"
      ]
    },
    {
      "cell_type": "code",
      "metadata": {
        "id": "2zGwwGYw8sWw",
        "colab_type": "code",
        "colab": {}
      },
      "source": [
        "opposites = {\"up\": \"down\", \"right\": \"wrong\", \"yes\": \"no\"}\n",
        "aliasedCopy = opposites\n",
        "\n",
        "copy = opposites.copy()\n",
        "# shallow copy"
      ],
      "execution_count": 0,
      "outputs": []
    },
    {
      "cell_type": "code",
      "metadata": {
        "id": "LS6PHqKW8vXj",
        "colab_type": "code",
        "colab": {}
      },
      "source": [
        "print(\"opposites:\\t\", opposites)\n",
        "print(\"aliasedCopy:\\t\", aliasedCopy)\n",
        "print(\"copy:\\t\\t\", copy)"
      ],
      "execution_count": 0,
      "outputs": []
    },
    {
      "cell_type": "code",
      "metadata": {
        "id": "JdnDjMGS8uxB",
        "colab_type": "code",
        "colab": {}
      },
      "source": [
        "aliasedCopy[\"up\"] = \"potato\"\n",
        "# note: you just changed both opposites and aliased copy!\n",
        "print(opposites)"
      ],
      "execution_count": 0,
      "outputs": []
    },
    {
      "cell_type": "code",
      "metadata": {
        "id": "UKz0NsTJ8-hq",
        "colab_type": "code",
        "colab": {}
      },
      "source": [
        "print(\"opposites:\\t\", opposites)\n",
        "print(\"aliasedCopy:\\t\", aliasedCopy)\n",
        "print(\"copy:\\t\\t\", copy)"
      ],
      "execution_count": 0,
      "outputs": []
    },
    {
      "cell_type": "code",
      "metadata": {
        "id": "GTOYC7Dx89Gh",
        "colab_type": "code",
        "colab": {}
      },
      "source": [
        "# to change only one use the copied one\n",
        "copy[\"right\"] = \"rightMan!\"\n",
        "print(copy)"
      ],
      "execution_count": 0,
      "outputs": []
    },
    {
      "cell_type": "code",
      "metadata": {
        "id": "g1JH6ved9Cky",
        "colab_type": "code",
        "colab": {}
      },
      "source": [
        "print(\"opposites:\\t\", opposites)\n",
        "print(\"aliasedCopy:\\t\", aliasedCopy)\n",
        "print(\"copy:\\t\\t\", copy)"
      ],
      "execution_count": 0,
      "outputs": []
    },
    {
      "cell_type": "markdown",
      "metadata": {
        "id": "nUgCx3rD9PzR",
        "colab_type": "text"
      },
      "source": [
        "# 2. Space for the tasks:"
      ]
    },
    {
      "cell_type": "markdown",
      "metadata": {
        "id": "Y_78Cthc9TPb",
        "colab_type": "text"
      },
      "source": [
        "Some helper functions to start your work:"
      ]
    },
    {
      "cell_type": "markdown",
      "metadata": {
        "id": "bOk0BRCW9X6R",
        "colab_type": "text"
      },
      "source": [
        "Downloading the text:"
      ]
    },
    {
      "cell_type": "code",
      "metadata": {
        "id": "TGBbahsk9Pay",
        "colab_type": "code",
        "colab": {}
      },
      "source": [
        "!wget https://www.gutenberg.org/files/345/345.txt\n",
        "!mv 345.txt dracula.txt"
      ],
      "execution_count": 0,
      "outputs": []
    },
    {
      "cell_type": "code",
      "metadata": {
        "id": "QAN5Jldb9c5O",
        "colab_type": "code",
        "colab": {}
      },
      "source": [
        "infile = open(\"dracula.txt\", \"r\")\n",
        "the_whole_file_as_string = infile.read()\n",
        "infile.close()\n",
        "the_whole_file_as_string = the_whole_file_as_string.lower()\n",
        "\n",
        "print(\"careful, this is prety long:\", len(the_whole_file_as_string), \"< we have this many characters\")"
      ],
      "execution_count": 0,
      "outputs": []
    },
    {
      "cell_type": "markdown",
      "metadata": {
        "id": "PnKyXzIL-gr2",
        "colab_type": "text"
      },
      "source": [
        "Use this as a starter for your word counting dictionary:"
      ]
    },
    {
      "cell_type": "code",
      "metadata": {
        "id": "KPCCVoKq9yUm",
        "colab_type": "code",
        "colab": {}
      },
      "source": [
        "as_words = the_whole_file_as_string.split()\n",
        "cleaned_words = []\n",
        "for word in as_words:\n",
        "    cleaned_word = word.strip()\n",
        "    cleaned_word = cleaned_word.replace(\",\", \"\")\n",
        "    cleaned_word = cleaned_word.replace(\".\", \"\")\n",
        "    cleaned_word = cleaned_word.replace(\"?\", \"\")\n",
        "    cleaned_word = cleaned_word.replace(\"!\", \"\")\n",
        "    cleaned_word = cleaned_word.replace(\"_\", \"\")\n",
        "    cleaned_word = cleaned_word.replace(\"-\", \"\")\n",
        "    cleaned_word = cleaned_word.replace(\":\", \"\")\n",
        "    cleaned_word = cleaned_word.replace(\";\", \"\")\n",
        "    cleaned_word = cleaned_word.replace(\"[\", \"\")\n",
        "    cleaned_word = cleaned_word.replace(\"]\", \"\")\n",
        "    cleaned_word = cleaned_word.replace(\"(\", \"\")\n",
        "    cleaned_word = cleaned_word.replace(\")\", \"\")\n",
        "\n",
        "    cleaned_words.append(cleaned_word)\n"
      ],
      "execution_count": 0,
      "outputs": []
    },
    {
      "cell_type": "code",
      "metadata": {
        "id": "ib-vNeP6-pSs",
        "colab_type": "code",
        "colab": {}
      },
      "source": [
        "subset = 100\n",
        "\n",
        "print( cleaned_words[0:subset] )"
      ],
      "execution_count": 0,
      "outputs": []
    }
  ]
}