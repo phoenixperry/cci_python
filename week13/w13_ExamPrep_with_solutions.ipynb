{
  "nbformat": 4,
  "nbformat_minor": 0,
  "metadata": {
    "colab": {
      "name": "w13_ExamPrep_with_solutions.ipynb",
      "provenance": [],
      "collapsed_sections": []
    },
    "kernelspec": {
      "name": "python3",
      "display_name": "Python 3"
    }
  },
  "cells": [
    {
      "cell_type": "markdown",
      "metadata": {
        "id": "8v5jGkf6e_Ch",
        "colab_type": "text"
      },
      "source": [
        "# Exam Prep"
      ]
    },
    {
      "cell_type": "markdown",
      "metadata": {
        "id": "5sDcfA3rfDOy",
        "colab_type": "text"
      },
      "source": [
        "## Task 1: For loop syntax from 2 to 10"
      ]
    },
    {
      "cell_type": "code",
      "metadata": {
        "id": "fTYSLSQqupYw",
        "colab_type": "code",
        "colab": {
          "base_uri": "https://localhost:8080/",
          "height": 170
        },
        "outputId": "c6639a9f-04d5-44ef-8e88-dbcf4632b624"
      },
      "source": [
        "for i in range(2,11):\n",
        "  print(i)"
      ],
      "execution_count": 7,
      "outputs": [
        {
          "output_type": "stream",
          "text": [
            "2\n",
            "3\n",
            "4\n",
            "5\n",
            "6\n",
            "7\n",
            "8\n",
            "9\n",
            "10\n"
          ],
          "name": "stdout"
        }
      ]
    },
    {
      "cell_type": "markdown",
      "metadata": {
        "id": "bUu0HLcGfTkk",
        "colab_type": "text"
      },
      "source": [
        "## Task 2: For loop in 0 to 20, print only even numbers"
      ]
    },
    {
      "cell_type": "code",
      "metadata": {
        "id": "JhBkZN59u17F",
        "colab_type": "code",
        "colab": {
          "base_uri": "https://localhost:8080/",
          "height": 204
        },
        "outputId": "dd8073b8-adae-4425-b876-8936551a0beb"
      },
      "source": [
        "for i in range(0,21):\n",
        "  if i % 2 == 0:\n",
        "    print(i)"
      ],
      "execution_count": 8,
      "outputs": [
        {
          "output_type": "stream",
          "text": [
            "0\n",
            "2\n",
            "4\n",
            "6\n",
            "8\n",
            "10\n",
            "12\n",
            "14\n",
            "16\n",
            "18\n",
            "20\n"
          ],
          "name": "stdout"
        }
      ]
    },
    {
      "cell_type": "markdown",
      "metadata": {
        "id": "JSuwR3aSgiOl",
        "colab_type": "text"
      },
      "source": [
        "## Task 3: Explain the difference between integers and floats"
      ]
    },
    {
      "cell_type": "code",
      "metadata": {
        "id": "h_NI99vZu419",
        "colab_type": "code",
        "colab": {
          "base_uri": "https://localhost:8080/",
          "height": 51
        },
        "outputId": "abf5e808-d99f-4583-be10-fce606809298"
      },
      "source": [
        "# whole numbers - integers\n",
        "a = 1\n",
        "b = 2\n",
        "print(type(a))\n",
        "# decimal numbers - floats\n",
        "c = 1.23\n",
        "d = 4.22\n",
        "print(type(d))"
      ],
      "execution_count": 9,
      "outputs": [
        {
          "output_type": "stream",
          "text": [
            "<class 'int'>\n",
            "<class 'float'>\n"
          ],
          "name": "stdout"
        }
      ]
    },
    {
      "cell_type": "markdown",
      "metadata": {
        "id": "i2DRiSwjhLiP",
        "colab_type": "text"
      },
      "source": [
        "## Task 4: Convert a float number to integer -> converting an integer into float"
      ]
    },
    {
      "cell_type": "code",
      "metadata": {
        "id": "FV0qXY0TvGT7",
        "colab_type": "code",
        "colab": {
          "base_uri": "https://localhost:8080/",
          "height": 51
        },
        "outputId": "e7a139bb-f2f8-4571-fce1-9545def6076c"
      },
      "source": [
        "a = 132.1\n",
        "print(int(a)) # There's a loss of the 0.1!\n",
        "\n",
        "b = 12\n",
        "print(float(b))"
      ],
      "execution_count": 10,
      "outputs": [
        {
          "output_type": "stream",
          "text": [
            "132\n",
            "12.0\n"
          ],
          "name": "stdout"
        }
      ]
    },
    {
      "cell_type": "markdown",
      "metadata": {
        "id": "73eHR9CDiNW0",
        "colab_type": "text"
      },
      "source": [
        "## Task 5: How do you check if a number can be stored as an integer, or it needs to be stored as a float"
      ]
    },
    {
      "cell_type": "code",
      "metadata": {
        "id": "hT8NLC_nit5S",
        "colab_type": "code",
        "colab": {
          "base_uri": "https://localhost:8080/",
          "height": 102
        },
        "outputId": "1284815b-d786-439d-f666-39d041154ea2"
      },
      "source": [
        "a = 10.0\n",
        "print(a)\n",
        "print(int(a))\n",
        "\n",
        "print(int(a) - a == 0.0) # True, so it can be stored\n",
        "\n",
        "a = 12.4\n",
        "print(int(a) - a == 0.0) # False so it can't be stored\n",
        "\n",
        "# as a nicer code:\n",
        "a = 13.111\n",
        "if int(a) - a == 0.0:\n",
        "  print(\"Can be stored\", int(a))\n",
        "else:\n",
        "  print(\"Can't be stored without loosing some precision (\", a, \"isn't\", int(a), \")\")"
      ],
      "execution_count": 12,
      "outputs": [
        {
          "output_type": "stream",
          "text": [
            "10.0\n",
            "10\n",
            "True\n",
            "False\n",
            "Can't be stored without loosing some precision ( 13.111 isn't 13 )\n"
          ],
          "name": "stdout"
        }
      ]
    },
    {
      "cell_type": "markdown",
      "metadata": {
        "id": "bQ8D9jqZiea_",
        "colab_type": "text"
      },
      "source": [
        "## Task 6: Ask the user for their name"
      ]
    },
    {
      "cell_type": "code",
      "metadata": {
        "id": "PkR7jIHBvoG-",
        "colab_type": "code",
        "colab": {
          "base_uri": "https://localhost:8080/",
          "height": 51
        },
        "outputId": "f9ee3e80-8a31-459a-a972-49ee041dc2d4"
      },
      "source": [
        "name = input(\"What's your name?\")\n",
        "print(name)"
      ],
      "execution_count": 13,
      "outputs": [
        {
          "output_type": "stream",
          "text": [
            "What's your name?Vitek\n",
            "Vitek\n"
          ],
          "name": "stdout"
        }
      ]
    },
    {
      "cell_type": "markdown",
      "metadata": {
        "id": "wsMnz0Vglp6A",
        "colab_type": "text"
      },
      "source": [
        "## Task 7: Check how many letters the string has? Convert to lower case. Convert to upper case."
      ]
    },
    {
      "cell_type": "code",
      "metadata": {
        "id": "0_qcddkrvtIU",
        "colab_type": "code",
        "colab": {
          "base_uri": "https://localhost:8080/",
          "height": 68
        },
        "outputId": "255fe027-d41c-4506-92e3-8b32576d359c"
      },
      "source": [
        "print(len(name))\n",
        "print(name.lower())\n",
        "print(name.upper())"
      ],
      "execution_count": 14,
      "outputs": [
        {
          "output_type": "stream",
          "text": [
            "5\n",
            "vitek\n",
            "VITEK\n"
          ],
          "name": "stdout"
        }
      ]
    },
    {
      "cell_type": "markdown",
      "metadata": {
        "id": "JZkJ8iY7ncdU",
        "colab_type": "text"
      },
      "source": [
        "## Task 8: Print the first letter of that string. Last letter?  "
      ]
    },
    {
      "cell_type": "code",
      "metadata": {
        "id": "cTksk2IFv0fb",
        "colab_type": "code",
        "colab": {
          "base_uri": "https://localhost:8080/",
          "height": 51
        },
        "outputId": "ba52f618-e3aa-4dc4-f9c7-31748577a7b2"
      },
      "source": [
        "print(name[0])\n",
        "print(name[-1])\n"
      ],
      "execution_count": 15,
      "outputs": [
        {
          "output_type": "stream",
          "text": [
            "V\n",
            "k\n"
          ],
          "name": "stdout"
        }
      ]
    },
    {
      "cell_type": "markdown",
      "metadata": {
        "id": "SVVs_SWxodvy",
        "colab_type": "text"
      },
      "source": [
        "## Task 9: Check if the first letter is upper case?"
      ]
    },
    {
      "cell_type": "code",
      "metadata": {
        "id": "ln-t0QvQv3cw",
        "colab_type": "code",
        "colab": {
          "base_uri": "https://localhost:8080/",
          "height": 34
        },
        "outputId": "6f572c82-010d-4ded-ca74-6c42073cbf55"
      },
      "source": [
        "letter = name[0]\n",
        "\n",
        "if letter == letter.upper():\n",
        "  print(\"It was already uppercase!\")\n",
        "else:\n",
        "  print(\"It was a lower case...\")"
      ],
      "execution_count": 18,
      "outputs": [
        {
          "output_type": "stream",
          "text": [
            "It was already uppercase!\n"
          ],
          "name": "stdout"
        }
      ]
    },
    {
      "cell_type": "markdown",
      "metadata": {
        "id": "wgb1LjCUooC1",
        "colab_type": "text"
      },
      "source": [
        "## Task 10: Load a text from a file (\"alice.txt) into a variable."
      ]
    },
    {
      "cell_type": "code",
      "metadata": {
        "id": "JqjeX2VBwHon",
        "colab_type": "code",
        "colab": {}
      },
      "source": [
        "file = open(\"sample_data/README.md\", \"r\") # imagine there's alice.txt there instead\n",
        "text = file.read()\n",
        "file.close()"
      ],
      "execution_count": 0,
      "outputs": []
    },
    {
      "cell_type": "markdown",
      "metadata": {
        "id": "cgL1Vt2Oqvox",
        "colab_type": "text"
      },
      "source": [
        "## Task 11: How many words are in the loaded text? (In this example assume that words are separated by \" \" space character)"
      ]
    },
    {
      "cell_type": "code",
      "metadata": {
        "id": "YZUpf5dbwV-Y",
        "colab_type": "code",
        "colab": {
          "base_uri": "https://localhost:8080/",
          "height": 34
        },
        "outputId": "95af9e45-2f08-417d-e348-a14b9bfa08ac"
      },
      "source": [
        "words = text.split(\" \")\n",
        "print(len(words))"
      ],
      "execution_count": 20,
      "outputs": [
        {
          "output_type": "stream",
          "text": [
            "113\n"
          ],
          "name": "stdout"
        }
      ]
    },
    {
      "cell_type": "markdown",
      "metadata": {
        "id": "JENBrev_wdq-",
        "colab_type": "text"
      },
      "source": [
        "----- Take a pause"
      ]
    },
    {
      "cell_type": "markdown",
      "metadata": {
        "id": "wBNDIgl7wbyr",
        "colab_type": "text"
      },
      "source": [
        "## Task 12: What is the difference between lists, dictionaries and tuples? Write examples for each."
      ]
    },
    {
      "cell_type": "code",
      "metadata": {
        "id": "X81wmO30XwXK",
        "colab_type": "code",
        "colab": {
          "base_uri": "https://localhost:8080/",
          "height": 215
        },
        "outputId": "3336ce4a-70ee-4771-d413-47bff9063fce"
      },
      "source": [
        "my_list_1 = []\n",
        "my_list_2 = [\"a\", \"b\", \"carrot\"]\n",
        "\n",
        "my_tuple_1 = ()\n",
        "my_tuple_2 = (\"a\", \"b\", \"carrot\")\n",
        "# tuple can't be changed after it's creation\n",
        "\n",
        "my_list_2[2] = \"c\"\n",
        "print(my_list_2)\n",
        "\n",
        "my_tuple_2[2] = \"c\" # Notice the error: \"'tuple' object does not support item assignment\""
      ],
      "execution_count": 29,
      "outputs": [
        {
          "output_type": "stream",
          "text": [
            "['a', 'b', 'c']\n"
          ],
          "name": "stdout"
        },
        {
          "output_type": "error",
          "ename": "TypeError",
          "evalue": "ignored",
          "traceback": [
            "\u001b[0;31m---------------------------------------------------------------------------\u001b[0m",
            "\u001b[0;31mTypeError\u001b[0m                                 Traceback (most recent call last)",
            "\u001b[0;32m<ipython-input-29-63a3ac13c5e2>\u001b[0m in \u001b[0;36m<module>\u001b[0;34m()\u001b[0m\n\u001b[1;32m      9\u001b[0m \u001b[0mprint\u001b[0m\u001b[0;34m(\u001b[0m\u001b[0mmy_list_2\u001b[0m\u001b[0;34m)\u001b[0m\u001b[0;34m\u001b[0m\u001b[0;34m\u001b[0m\u001b[0m\n\u001b[1;32m     10\u001b[0m \u001b[0;34m\u001b[0m\u001b[0m\n\u001b[0;32m---> 11\u001b[0;31m \u001b[0mmy_tuple_2\u001b[0m\u001b[0;34m[\u001b[0m\u001b[0;36m2\u001b[0m\u001b[0;34m]\u001b[0m \u001b[0;34m=\u001b[0m \u001b[0;34m\"c\"\u001b[0m\u001b[0;34m\u001b[0m\u001b[0;34m\u001b[0m\u001b[0m\n\u001b[0m",
            "\u001b[0;31mTypeError\u001b[0m: 'tuple' object does not support item assignment"
          ]
        }
      ]
    },
    {
      "cell_type": "code",
      "metadata": {
        "id": "CfH63O52YLMk",
        "colab_type": "code",
        "colab": {
          "base_uri": "https://localhost:8080/",
          "height": 34
        },
        "outputId": "de3b4847-1125-4050-97d4-071089bffc69"
      },
      "source": [
        "my_dict_1 = {}\n",
        "\n",
        "my_dict_1 = {\n",
        "    \"a\" : 10,\n",
        "    \"b\" : 12\n",
        "}\n",
        "\n",
        "print(\"debug:\",my_dict_1)"
      ],
      "execution_count": 32,
      "outputs": [
        {
          "output_type": "stream",
          "text": [
            "debug: {'a': 10, 'b': 12}\n"
          ],
          "name": "stdout"
        }
      ]
    },
    {
      "cell_type": "markdown",
      "metadata": {
        "id": "vkjGFJOt1bvW",
        "colab_type": "text"
      },
      "source": [
        "## Task 13: Start with an empty list. Add three items into it (\"Dog\", \"God\", \"Godot\"). Remove the second item in this list."
      ]
    },
    {
      "cell_type": "code",
      "metadata": {
        "id": "d9PMD4gu4LwQ",
        "colab_type": "code",
        "colab": {
          "base_uri": "https://localhost:8080/",
          "height": 34
        },
        "outputId": "fd173a48-e626-459e-c090-0a590d20619b"
      },
      "source": [
        "l = []\n",
        "l.append(\"Dog\")\n",
        "l.append(\"God\")\n",
        "l.append(\"Godot\")\n",
        "\n",
        "del l[1]\n",
        "print(l)\n",
        "\n",
        "# also works:\n",
        "#l.pop(1)\n",
        "#print(l)"
      ],
      "execution_count": 33,
      "outputs": [
        {
          "output_type": "stream",
          "text": [
            "['Dog', 'Godot']\n"
          ],
          "name": "stdout"
        }
      ]
    },
    {
      "cell_type": "markdown",
      "metadata": {
        "id": "jkdOr7KF4e65",
        "colab_type": "text"
      },
      "source": [
        "## Task 13b: Check if there is \"Dog\" in the list?"
      ]
    },
    {
      "cell_type": "code",
      "metadata": {
        "id": "_ff6ClnwYiec",
        "colab_type": "code",
        "colab": {
          "base_uri": "https://localhost:8080/",
          "height": 34
        },
        "outputId": "552f4dde-9300-4617-96c7-afdee2e55572"
      },
      "source": [
        "if \"Dog\" in l:\n",
        "  print(\"It is!\")"
      ],
      "execution_count": 34,
      "outputs": [
        {
          "output_type": "stream",
          "text": [
            "It is!\n"
          ],
          "name": "stdout"
        }
      ]
    },
    {
      "cell_type": "markdown",
      "metadata": {
        "id": "67kJ6A0C4kWI",
        "colab_type": "text"
      },
      "source": [
        "## Task 14: Create an empty dictionary. In a while loop, ask the user for two inputs (item and clue). Add this item and clue as an entry in the dictionary. (So that dictionary[item] points to the clue)"
      ]
    },
    {
      "cell_type": "code",
      "metadata": {
        "id": "v00-OuVVAO4f",
        "colab_type": "code",
        "colab": {}
      },
      "source": [
        "d = {}\n",
        "while True:\n",
        "  item = input(\"item pls\")\n",
        "  clue = input(\"clue pls\")\n",
        "  d[ item ] = clue"
      ],
      "execution_count": 0,
      "outputs": []
    },
    {
      "cell_type": "markdown",
      "metadata": {
        "id": "byZNUz402w09",
        "colab_type": "text"
      },
      "source": [
        "## Task 14b: Once the user enters \"Please end this\" as an item, end the while loop."
      ]
    },
    {
      "cell_type": "code",
      "metadata": {
        "id": "-n8qZyagAOTj",
        "colab_type": "code",
        "colab": {}
      },
      "source": [
        "d = {}\n",
        "while True:\n",
        "  item = input(\"item pls\")\n",
        "  if item == \"pls end this\":\n",
        "    break\n",
        "  clue = input(\"clue pls\")\n",
        "  d[ item ] = clue"
      ],
      "execution_count": 0,
      "outputs": []
    },
    {
      "cell_type": "markdown",
      "metadata": {
        "id": "Vkcd8R19-Ayy",
        "colab_type": "text"
      },
      "source": [
        "## Task 14c: After the loop is finished, print all pairs of items inside the dictionary."
      ]
    },
    {
      "cell_type": "code",
      "metadata": {
        "id": "8lg4V1NcAbvX",
        "colab_type": "code",
        "colab": {
          "base_uri": "https://localhost:8080/",
          "height": 153
        },
        "outputId": "9ac01d85-f4e7-4bce-a3c5-50fcb0abf498"
      },
      "source": [
        "d = {}\n",
        "while True:\n",
        "  item = input(\"item pls\")\n",
        "  if item == \"pls end this\":\n",
        "    break\n",
        "  clue = input(\"clue pls\")\n",
        "  d[ item ] = clue\n",
        "\n",
        "print(list(d.keys()))\n",
        "\n",
        "keys = d.keys()\n",
        "for key in keys:\n",
        "  print(key, \" points to \", d[key])"
      ],
      "execution_count": 24,
      "outputs": [
        {
          "output_type": "stream",
          "text": [
            "item plsitem1\n",
            "clue plsclue1\n",
            "item plsitem2\n",
            "clue plsclue2\n",
            "item plspls end this\n",
            "['item1', 'item2']\n",
            "item1  points to  clue1\n",
            "item2  points to  clue2\n"
          ],
          "name": "stdout"
        }
      ]
    },
    {
      "cell_type": "markdown",
      "metadata": {
        "id": "JLz8HAg1DFcE",
        "colab_type": "text"
      },
      "source": [
        "## Task 15: Write a function which will return the second item of a list. (Careful, the function should have an input and return the output)"
      ]
    },
    {
      "cell_type": "code",
      "metadata": {
        "id": "KF0gVZwQGUVM",
        "colab_type": "code",
        "colab": {}
      },
      "source": [
        "def second_item(input_list):\n",
        "  return input_list[1]"
      ],
      "execution_count": 0,
      "outputs": []
    },
    {
      "cell_type": "markdown",
      "metadata": {
        "id": "Wj3q4nYoE5RW",
        "colab_type": "text"
      },
      "source": [
        "## Task 15b: Use this function for every item in a list. Print the results!"
      ]
    },
    {
      "cell_type": "code",
      "metadata": {
        "id": "zhJ2UHmJFFRU",
        "colab_type": "code",
        "colab": {
          "base_uri": "https://localhost:8080/",
          "height": 68
        },
        "outputId": "8174a070-d958-4272-a260-52b895b47447"
      },
      "source": [
        "l = [\n",
        "     [1,2,3], \n",
        "     [\"a\",\"b\",\"c\"],\n",
        "     [1,2,3], \n",
        "    ]\n",
        "\n",
        "# This would output:\n",
        "# 2, \"b\", 2\n",
        "\n",
        "for item in l:\n",
        "  print(second_item(item))"
      ],
      "execution_count": 26,
      "outputs": [
        {
          "output_type": "stream",
          "text": [
            "2\n",
            "b\n",
            "2\n"
          ],
          "name": "stdout"
        }
      ]
    },
    {
      "cell_type": "markdown",
      "metadata": {
        "id": "t58Uz995G3pa",
        "colab_type": "text"
      },
      "source": [
        "## Task 16: Write a function which returns a larger of two numbers. "
      ]
    },
    {
      "cell_type": "code",
      "metadata": {
        "id": "S5c-hQZkYpxe",
        "colab_type": "code",
        "colab": {
          "base_uri": "https://localhost:8080/",
          "height": 34
        },
        "outputId": "b93a461f-270b-4ac6-cf9b-7e9bb17ae6dd"
      },
      "source": [
        "def larger_of_two(a, b):\n",
        "  if a>b:\n",
        "    return a\n",
        "  else:\n",
        "    return b\n",
        "\n",
        "print(\"Larger of 10 and 20 is\", larger_of_two(10,20))"
      ],
      "execution_count": 35,
      "outputs": [
        {
          "output_type": "stream",
          "text": [
            "Larger of 10 and 20 is 20\n"
          ],
          "name": "stdout"
        }
      ]
    },
    {
      "cell_type": "markdown",
      "metadata": {
        "id": "dELE2souG-Tv",
        "colab_type": "text"
      },
      "source": [
        "## Task 17: Write this as a condition (which evaluates into False of True): I want a red house which is cheaper than 100, or, a blue house cheaper than 200, or a gray house.\n",
        "\n",
        "\n",
        "Assume you are getting new values for color and price.\n",
        "Would I like this house?"
      ]
    },
    {
      "cell_type": "code",
      "metadata": {
        "id": "GsjJjG6tImb-",
        "colab_type": "code",
        "colab": {
          "base_uri": "https://localhost:8080/",
          "height": 34
        },
        "outputId": "3c7596ba-2c2d-4489-f160-e057fa2bf217"
      },
      "source": [
        "color = \"white\" # assume that these can change \n",
        "price = 120 # assume that these can change\n",
        "\n",
        "like = (color == \"red\" and price < 100) or (color == \"blue\" and price < 200) or (color == \"gray\")\n",
        "\n",
        "print(like)"
      ],
      "execution_count": 36,
      "outputs": [
        {
          "output_type": "stream",
          "text": [
            "False\n"
          ],
          "name": "stdout"
        }
      ]
    }
  ]
}