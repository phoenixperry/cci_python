{
  "nbformat": 4,
  "nbformat_minor": 0,
  "metadata": {
    "colab": {
      "name": "w9_GAN_faces.ipynb",
      "provenance": [],
      "collapsed_sections": []
    },
    "kernelspec": {
      "name": "python3",
      "display_name": "Python 3"
    },
    "accelerator": "GPU"
  },
  "cells": [
    {
      "cell_type": "markdown",
      "metadata": {
        "id": "5NinT1Np94BG",
        "colab_type": "text"
      },
      "source": [
        "# 1 Initialization"
      ]
    },
    {
      "cell_type": "markdown",
      "metadata": {
        "id": "KU1QQ5D97rud",
        "colab_type": "text"
      },
      "source": [
        "Download all the stuff:"
      ]
    },
    {
      "cell_type": "code",
      "metadata": {
        "id": "uNE6w-jk7HYi",
        "colab_type": "code",
        "colab": {}
      },
      "source": [
        "!git clone https://github.com/tkarras/progressive_growing_of_gans.git\n",
        "!pip install -U -q PyDrive\n",
        "!pip install tqdm\n",
        "%cd progressive_growing_of_gans\n",
        "%tensorflow_version 1.x"
      ],
      "execution_count": 0,
      "outputs": []
    },
    {
      "cell_type": "code",
      "metadata": {
        "id": "kNWNSN_U7vs4",
        "colab_type": "code",
        "colab": {}
      },
      "source": [
        "from pydrive.auth import GoogleAuth\n",
        "from pydrive.drive import GoogleDrive\n",
        "from google.colab import auth\n",
        "from oauth2client.client import GoogleCredentials\n",
        "# Authenticate and create the PyDrive client.\n",
        "# This only needs to be done once per notebook.\n",
        "auth.authenticate_user()\n",
        "gauth = GoogleAuth()\n",
        "gauth.credentials = GoogleCredentials.get_application_default()\n",
        "drive = GoogleDrive(gauth)\n",
        "\n",
        "# https://drive.google.com/open?id=188K19ucknC6wg1R6jbuPEhTq9zoufOx4\n",
        "file_id = '188K19ucknC6wg1R6jbuPEhTq9zoufOx4' # karras2018iclr-celebahq-1024x1024.pkl \n",
        "downloaded = drive.CreateFile({'id': file_id})\n",
        "downloaded.GetContentFile('karras2018iclr-celebahq-1024x1024.pkl')\n",
        "print(\"downloaded!\")"
      ],
      "execution_count": 0,
      "outputs": []
    },
    {
      "cell_type": "markdown",
      "metadata": {
        "id": "r5GdeMH9BTDy",
        "colab_type": "text"
      },
      "source": [
        "Test it with ls (listing contents of the directory). You should see the files \"karras2018iclr-celebahq-1024x1024.pkl\" and \"train.py\" be present in the folder:"
      ]
    },
    {
      "cell_type": "code",
      "metadata": {
        "id": "VktKw2euBSp3",
        "colab_type": "code",
        "colab": {}
      },
      "source": [
        "!ls"
      ],
      "execution_count": 0,
      "outputs": []
    },
    {
      "cell_type": "markdown",
      "metadata": {
        "id": "1y0RSTpXF9pX",
        "colab_type": "text"
      },
      "source": [
        "Also run this:"
      ]
    },
    {
      "cell_type": "code",
      "metadata": {
        "id": "EgDKYX0S7bLU",
        "colab_type": "code",
        "colab": {}
      },
      "source": [
        "import pickle, pickletools\n",
        "import numpy as np\n",
        "import tensorflow as tf\n",
        "import PIL.Image\n",
        "\n",
        "# Initialize TensorFlow session.\n",
        "tf.InteractiveSession()\n",
        "\n",
        "# Import official CelebA-HQ networks.\n",
        "with open('karras2018iclr-celebahq-1024x1024.pkl', 'rb') as file:\n",
        "    proto_op = next(pickletools.genops(file))\n",
        "    assert proto_op[0].name == 'PROTO'\n",
        "    proto_ver = proto_op[1]\n",
        "    G, D, Gs = pickle.load(file)\n",
        "    print(\"loaded successfully!\")\n",
        "\n",
        "def latent_to_image(latent, name=\"img\"):\n",
        "  latents = np.asarray([latent])\n",
        "  # Generate dummy labels (not used by the official networks).\n",
        "  labels = np.zeros([len(latents)] + Gs.input_shapes[1][1:])\n",
        "\n",
        "  # Run the generator to produce a set of images.\n",
        "  images = Gs.run(latents, labels)\n",
        "\n",
        "  # Convert images to PIL-compatible format.\n",
        "  images = np.clip(np.rint((images + 1.0) / 2.0 * 255.0), 0.0, 255.0).astype(np.uint8) # [-1,1] => [0,255]\n",
        "  images = images.transpose(0, 2, 3, 1) # NCHW => NHWC\n",
        "\n",
        "  return images[0]\n",
        "\n",
        "def save_image(image, name=\"image.png\"):\n",
        "  PIL.Image.fromarray(image, 'RGB').save(name)\n",
        "\n",
        "print(\"all ready!\")"
      ],
      "execution_count": 0,
      "outputs": []
    },
    {
      "cell_type": "markdown",
      "metadata": {
        "id": "rAPuKuDu98wx",
        "colab_type": "text"
      },
      "source": [
        "# 2 Inference time"
      ]
    },
    {
      "cell_type": "markdown",
      "metadata": {
        "id": "ICbkjbgWIwco",
        "colab_type": "text"
      },
      "source": [
        "Generate images:"
      ]
    },
    {
      "cell_type": "code",
      "metadata": {
        "id": "vgTJeGpzCbP5",
        "colab_type": "code",
        "colab": {}
      },
      "source": [
        "latent = [0., 0., 1., 0., 0., 0., 0., 0., 0., 0., 0., 0., 0., 0., 0., 0., 0., 0., 0., 0., 0., 0., 0., 0.,\n",
        " 0., 0., 0., 0., 0., 0., 0., 0., 0., 0., 0., 0., 0., 0., 0., 0., 0., 0., 0., 0., 0., 0., 0., 0.,\n",
        " 0., 0., 0., 0., 0., 0., 0., 0., 0., 0., 0., 0., 0., 0., 0., 0., 0., 0., 0., 0., 0., 0., 0., 0.,\n",
        " 0., 0., 0., 0., 0., 0., 0., 0., 0., 0., 0., 0., 0., 0., 0., 0., 0., 0., 0., 0., 0., 0., 0., 0.,\n",
        " 0., 0., 0., 0., 0., 0., 0., 0., 0., 0., 0., 0., 0., 0., 0., 0., 0., 0., 0., 0., 0., 0., 0., 0.,\n",
        " 0., 0., 0., 0., 0., 0., 0., 0., 0., 0., 0., 0., 0., 0., 0., 0., 0., 0., 0., 0., 0., 0., 0., 0.,\n",
        " 0., 0., 0., 0., 0., 0., 0., 0., 0., 0., 0., 0., 0., 0., 0., 0., 0., 0., 0., 0., 0., 0., 0., 0.,\n",
        " 0., 0., 0., 0., 0., 0., 0., 0., 0., 0., 0., 0., 0., 0., 0., 0., 0., 0., 0., 0., 0., 0., 0., 0.,\n",
        " 0., 0., 0., 0., 0., 0., 0., 0., 0., 0., 0., 0., 0., 0., 0., 0., 0., 0., 0., 0., 0., 0., 0., 0.,\n",
        " 0., 0., 0., 0., 0., 0., 0., 0., 0., 0., 0., 0., 0., 0., 0., 0., 0., 0., 0., 0., 0., 0., 0., 0.,\n",
        " 0., 0., 0., 0., 0., 0., 0., 0., 0., 0., 0., 0., 0., 0., 0., 0., 0., 0., 0., 0., 0., 0., 0., 0.,\n",
        " 0., 0., 0., 0., 0., 0., 0., 0., 0., 0., 0., 0., 0., 0., 0., 0., 0., 0., 0., 0., 0., 0., 0., 0.,\n",
        " 0., 0., 0., 0., 0., 0., 0., 0., 0., 0., 0., 0., 0., 0., 0., 0., 0., 0., 0., 0., 0., 0., 0., 0.,\n",
        " 0., 0., 0., 0., 0., 0., 0., 0., 0., 0., 0., 0., 0., 0., 0., 0., 0., 0., 0., 0., 0., 0., 0., 0.,\n",
        " 0., 0., 0., 0., 0., 0., 0., 0., 0., 0., 0., 0., 0., 0., 0., 0., 0., 0., 0., 0., 0., 0., 0., 0.,\n",
        " 0., 0., 0., 0., 0., 0., 0., 0., 0., 0., 0., 0., 0., 0., 0., 0., 0., 0., 0., 0., 0., 0., 0., 0.,\n",
        " 0., 0., 0., 0., 0., 0., 0., 0., 0., 0., 0., 0., 0., 0., 0., 0., 0., 0., 0., 0., 0., 0., 0., 0.,\n",
        " 0., 0., 0., 0., 0., 0., 0., 0., 0., 0., 0., 0., 0., 0., 0., 0., 0., 0., 0., 0., 0., 0., 0., 0.,\n",
        " 0., 0., 0., 0., 0., 0., 0., 0., 0., 0., 0., 0., 0., 0., 0., 0., 0., 0., 0., 0., 0., 0., 0., 0.,\n",
        " 0., 0., 0., 0., 0., 0., 0., 0., 0., 0., 0., 0., 0., 0., 0., 0., 0., 0., 0., 0., 0., 0., 0., 0.,\n",
        " 0., 0., 0., 0., 0., 0., 0., 0., 0., 0., 0., 0., 0., 0., 0., 0., 0., 0., 0., 0., 0., 0., 0., 0.,\n",
        " 0., 0., 0., 0., 0., 0., 0., 0.]\n",
        "\n",
        "#latent = np.random.randn(512) # < maybe better to find some random faces\n",
        "\n",
        "print(\"In:\", np.asarray(latent).shape)\n",
        "\n",
        "image = latent_to_image(latent,\"name\")\n",
        "\n",
        "print(\"Out\", image.shape)"
      ],
      "execution_count": 0,
      "outputs": []
    },
    {
      "cell_type": "code",
      "metadata": {
        "id": "RLBl0y4IEpwY",
        "colab_type": "code",
        "colab": {}
      },
      "source": [
        "from IPython.display import Image, display\n",
        "import matplotlib.pyplot as plt\n",
        "import PIL\n",
        "print(\"image resolution:\", image.shape)\n",
        "plt.imshow(image)\n",
        "plt.show()"
      ],
      "execution_count": 0,
      "outputs": []
    },
    {
      "cell_type": "code",
      "metadata": {
        "id": "rovvtJg0EY7R",
        "colab_type": "code",
        "colab": {}
      },
      "source": [
        "save_image(image, \"generated.png\")"
      ],
      "execution_count": 0,
      "outputs": []
    },
    {
      "cell_type": "code",
      "metadata": {
        "id": "3VE2qsSUEb8P",
        "colab_type": "code",
        "colab": {}
      },
      "source": [
        "!ls"
      ],
      "execution_count": 0,
      "outputs": []
    },
    {
      "cell_type": "code",
      "metadata": {
        "id": "klADCaYcEv3z",
        "colab_type": "code",
        "colab": {}
      },
      "source": [
        "from google.colab import files\n",
        "files.download(\"generated.png\")"
      ],
      "execution_count": 0,
      "outputs": []
    }
  ]
}