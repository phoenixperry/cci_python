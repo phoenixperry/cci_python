{
  "nbformat": 4,
  "nbformat_minor": 0,
  "metadata": {
    "colab": {
      "name": "w11_tasks_solutions.ipynb",
      "provenance": [],
      "collapsed_sections": []
    },
    "kernelspec": {
      "name": "python3",
      "display_name": "Python 3"
    }
  },
  "cells": [
    {
      "cell_type": "markdown",
      "metadata": {
        "id": "PyIoXl1ELVCV",
        "colab_type": "text"
      },
      "source": [
        "Task1: Print your name!"
      ]
    },
    {
      "cell_type": "code",
      "metadata": {
        "id": "9b-5rY59LA7g",
        "colab_type": "code",
        "outputId": "96e48650-84ae-4def-86f9-c510fedfff0b",
        "colab": {
          "base_uri": "https://localhost:8080/",
          "height": 35
        }
      },
      "source": [
        "print(\"Vit Ruzicka\")"
      ],
      "execution_count": 0,
      "outputs": [
        {
          "output_type": "stream",
          "text": [
            "Vit Ruzicka\n"
          ],
          "name": "stdout"
        }
      ]
    },
    {
      "cell_type": "markdown",
      "metadata": {
        "id": "kheYLu1BLH2k",
        "colab_type": "text"
      },
      "source": [
        "Task 2: Using a for loop count to 5 ?"
      ]
    },
    {
      "cell_type": "code",
      "metadata": {
        "id": "7E8LIwqVLI8A",
        "colab_type": "code",
        "outputId": "4c356520-bc7e-4d51-c061-d3ac9b368189",
        "colab": {
          "base_uri": "https://localhost:8080/",
          "height": 105
        }
      },
      "source": [
        "for i in range(5):\n",
        "    print(i)"
      ],
      "execution_count": 0,
      "outputs": [
        {
          "output_type": "stream",
          "text": [
            "0\n",
            "1\n",
            "2\n",
            "3\n",
            "4\n"
          ],
          "name": "stdout"
        }
      ]
    },
    {
      "cell_type": "markdown",
      "metadata": {
        "id": "D9WlQ3kbLTHj",
        "colab_type": "text"
      },
      "source": [
        "Task 3: How would you rewrite it to count from 3 to 23 ?"
      ]
    },
    {
      "cell_type": "code",
      "metadata": {
        "id": "JqdeVkHdLSdN",
        "colab_type": "code",
        "outputId": "e514e062-ad70-48c0-928b-78f94aa01452",
        "colab": {
          "base_uri": "https://localhost:8080/",
          "height": 369
        }
      },
      "source": [
        "for i in range(3,23):\n",
        "    print(i)"
      ],
      "execution_count": 0,
      "outputs": [
        {
          "output_type": "stream",
          "text": [
            "3\n",
            "4\n",
            "5\n",
            "6\n",
            "7\n",
            "8\n",
            "9\n",
            "10\n",
            "11\n",
            "12\n",
            "13\n",
            "14\n",
            "15\n",
            "16\n",
            "17\n",
            "18\n",
            "19\n",
            "20\n",
            "21\n",
            "22\n"
          ],
          "name": "stdout"
        }
      ]
    },
    {
      "cell_type": "markdown",
      "metadata": {
        "id": "CJcZKg1CL9Q2",
        "colab_type": "text"
      },
      "source": [
        "Task 4: Write a function which checks if a number is odd"
      ]
    },
    {
      "cell_type": "code",
      "metadata": {
        "id": "KcS8mY-4L82L",
        "colab_type": "code",
        "outputId": "bb1946a3-8221-44ff-f9ba-347573b32ccc",
        "colab": {
          "base_uri": "https://localhost:8080/",
          "height": 35
        }
      },
      "source": [
        "def is_odd(number):\n",
        "    remainder = (number%2)\n",
        "    return remainder == 1  # after dividing by 2 we still have 1 remaining\n",
        "\n",
        "print(\"Is 3 odd?\", is_odd(3))"
      ],
      "execution_count": 0,
      "outputs": [
        {
          "output_type": "stream",
          "text": [
            "Is 3 odd? True\n"
          ],
          "name": "stdout"
        }
      ]
    },
    {
      "cell_type": "markdown",
      "metadata": {
        "id": "QK1sXVm_NkHJ",
        "colab_type": "text"
      },
      "source": [
        "Task 5: Write a function which selects a maximal number from a list, write the checking yourself"
      ]
    },
    {
      "cell_type": "code",
      "metadata": {
        "id": "0m725g2PNlBR",
        "colab_type": "code",
        "outputId": "afe4ce98-9e3c-47bc-9075-00bd3326fd8d",
        "colab": {
          "base_uri": "https://localhost:8080/",
          "height": 35
        }
      },
      "source": [
        "def maximal_number(input_list):\n",
        "    biggest = input_list[0]\n",
        "    for number in input_list:\n",
        "        if number > biggest:\n",
        "            biggest = number\n",
        "\n",
        "    return biggest\n",
        "\n",
        "def maximal_number_withIdx(input_list):\n",
        "    biggest = input_list[0]\n",
        "    idx = 0\n",
        "\n",
        "    counter = 0\n",
        "    for number in input_list:\n",
        "        if number > biggest:\n",
        "            biggest = number\n",
        "            idx = counter # mark which one was the biggest num\n",
        "\n",
        "        counter += 1\n",
        "    return biggest, idx\n",
        "\n",
        "m = maximal_number_withIdx([10,20,44,-2])\n",
        "print(\"Maximal number is\", m[0], \"at position\", m[1])"
      ],
      "execution_count": 0,
      "outputs": [
        {
          "output_type": "stream",
          "text": [
            "Maximal number is 44 at position 2\n"
          ],
          "name": "stdout"
        }
      ]
    },
    {
      "cell_type": "markdown",
      "metadata": {
        "id": "lXkPCiGFObls",
        "colab_type": "text"
      },
      "source": [
        "Task 6: Make a dictionary to translate 3 selected English words to Spanish. Use this dictionary to translate a word input by user – and if you don’t have this word in the dictionary print “UNK”"
      ]
    },
    {
      "cell_type": "code",
      "metadata": {
        "id": "Tp8e20vdOdfh",
        "colab_type": "code",
        "outputId": "18422c14-93c2-4b64-d47b-a39aad350f08",
        "colab": {
          "base_uri": "https://localhost:8080/",
          "height": 52
        }
      },
      "source": [
        "eng2esp = {}\n",
        "eng2esp[\"potato\"] = \"patata\"\n",
        "eng2esp[\"cat\"] = \"gato\"\n",
        "eng2esp[\"dog\"] = \"perro\"\n",
        "\n",
        "word = \"potato\"\n",
        "\n",
        "print(\"Translating word\", word, \"from English to Spanish:\")\n",
        "if word in eng2esp:\n",
        "    print(eng2esp[word])\n",
        "else:\n",
        "    print(\"UNK\")"
      ],
      "execution_count": 0,
      "outputs": [
        {
          "output_type": "stream",
          "text": [
            "Translating word potato from English to Spanish:\n",
            "patata\n"
          ],
          "name": "stdout"
        }
      ]
    },
    {
      "cell_type": "markdown",
      "metadata": {
        "id": "RORpiLJJQ4kq",
        "colab_type": "text"
      },
      "source": [
        "Task 7: Load a text from a file and print it’s lengths (the number of characters)"
      ]
    },
    {
      "cell_type": "code",
      "metadata": {
        "id": "Y8x0x4BOQ5rN",
        "colab_type": "code",
        "outputId": "854a9bd7-9257-414b-d99e-a17d2543229e",
        "colab": {
          "base_uri": "https://localhost:8080/",
          "height": 70
        }
      },
      "source": [
        "textfile = open(\"text.txt\", \"r\")\n",
        "\n",
        "txt = textfile.read()\n",
        "\n",
        "textfile.close()\n",
        "\n",
        "print(txt)\n",
        "print(len(txt))"
      ],
      "execution_count": 0,
      "outputs": [
        {
          "output_type": "stream",
          "text": [
            "Test test text text\n",
            "And more lines\n",
            "34\n"
          ],
          "name": "stdout"
        }
      ]
    },
    {
      "cell_type": "markdown",
      "metadata": {
        "id": "rzw-Yt0RSxPG",
        "colab_type": "text"
      },
      "source": [
        "Task 8: Convert a string to lower case, strip it’s spaces (empty characters like “ “) and then give me the substring from the 5th to 10th place"
      ]
    },
    {
      "cell_type": "code",
      "metadata": {
        "id": "nEKgJwdoSyJu",
        "colab_type": "code",
        "outputId": "9bc7f557-7e2e-4b58-881a-f69812dadf7d",
        "colab": {
          "base_uri": "https://localhost:8080/",
          "height": 52
        }
      },
      "source": [
        "string_sample = \" This is a potato!   \"\n",
        "\n",
        "lower_string = string_sample.lower()\n",
        "clean_string = lower_string.strip()\n",
        "\n",
        "print(clean_string)\n",
        "\n",
        "print(clean_string[5:10])"
      ],
      "execution_count": 0,
      "outputs": [
        {
          "output_type": "stream",
          "text": [
            "this is a potato!\n",
            "is a \n"
          ],
          "name": "stdout"
        }
      ]
    },
    {
      "cell_type": "markdown",
      "metadata": {
        "id": "2tUccEjPUP-i",
        "colab_type": "text"
      },
      "source": [
        "Task 9: Extract information from a string\n",
        "\n",
        "Extract the name of the model (“potato”) \n",
        "\n",
        "Hint: You can split the string into list by for example “_” then you would be able to get the name easily \n",
        "\n",
        "Bonus: Extract also the number of layers (3) and units (128)"
      ]
    },
    {
      "cell_type": "code",
      "metadata": {
        "id": "ibu6hoGbURBG",
        "colab_type": "code",
        "outputId": "4c5bad37-dea4-4ac6-e77a-7d03d4c0106c",
        "colab": {
          "base_uri": "https://localhost:8080/",
          "height": 35
        }
      },
      "source": [
        "string_input = \"model_potato_3layers_128units_griffLim\"\n",
        "\n",
        "as_list = string_input.split(\"_\")\n",
        "\n",
        "name = as_list[1]\n",
        "layers = as_list[2][0:-6]\n",
        "units = as_list[3][0:-5]\n",
        "\n",
        "print(name, layers, units)"
      ],
      "execution_count": 0,
      "outputs": [
        {
          "output_type": "stream",
          "text": [
            "potato 3 128\n"
          ],
          "name": "stdout"
        }
      ]
    },
    {
      "cell_type": "markdown",
      "metadata": {
        "id": "aqMjtLGlV-XH",
        "colab_type": "text"
      },
      "source": [
        "Task 10: Check if a string contains a word “Alice”"
      ]
    },
    {
      "cell_type": "code",
      "metadata": {
        "id": "ksg5HmraWIKz",
        "colab_type": "code",
        "outputId": "ce3d1549-7f54-4111-837f-e6d7ced89335",
        "colab": {
          "base_uri": "https://localhost:8080/",
          "height": 35
        }
      },
      "source": [
        "string = \"Alice in the Wunderlands!\"\n",
        "\n",
        "contains = \"Alice\" in string # this will be either True or False\n",
        "\n",
        "print(contains)"
      ],
      "execution_count": 0,
      "outputs": [
        {
          "output_type": "stream",
          "text": [
            "True\n"
          ],
          "name": "stdout"
        }
      ]
    },
    {
      "cell_type": "markdown",
      "metadata": {
        "id": "zPPGbQGLV04W",
        "colab_type": "text"
      },
      "source": [
        "Task 11: Check if a string is exactly “Alice” "
      ]
    },
    {
      "cell_type": "code",
      "metadata": {
        "id": "gCneNM_yWO6J",
        "colab_type": "code",
        "outputId": "908f7078-1327-4490-fdf3-fb990b9621b0",
        "colab": {
          "base_uri": "https://localhost:8080/",
          "height": 52
        }
      },
      "source": [
        "string = \"Alice in the Wunderlands!\"\n",
        "is_alice = \"Alice\" == string # this will be either True or False\n",
        "print(is_alice)\n",
        "\n",
        "string = \"Alice\"\n",
        "is_alice = \"Alice\" == string # this will be either True or False\n",
        "print(is_alice)"
      ],
      "execution_count": 0,
      "outputs": [
        {
          "output_type": "stream",
          "text": [
            "False\n",
            "True\n"
          ],
          "name": "stdout"
        }
      ]
    },
    {
      "cell_type": "markdown",
      "metadata": {
        "id": "qfGbSL7nW4nr",
        "colab_type": "text"
      },
      "source": [
        "Task 12: Check how many times the string contains “Alice”"
      ]
    },
    {
      "cell_type": "code",
      "metadata": {
        "id": "jnVMrm8qW5yW",
        "colab_type": "code",
        "outputId": "a560bb97-95df-497d-b3c3-1b7b45f8932d",
        "colab": {
          "base_uri": "https://localhost:8080/",
          "height": 35
        }
      },
      "source": [
        "string = \"Alice in the Wunderlands is Alice is Alice is ... ad absurdum\"\n",
        "\n",
        "count = string.count(\"Alice\")\n",
        "print(\"Contains\", count)"
      ],
      "execution_count": 0,
      "outputs": [
        {
          "output_type": "stream",
          "text": [
            "Contains 3\n"
          ],
          "name": "stdout"
        }
      ]
    },
    {
      "cell_type": "markdown",
      "metadata": {
        "id": "y_qXNuiKXFxh",
        "colab_type": "text"
      },
      "source": [
        "Task 13: Write a class for point Hint: point should have x,y \n",
        "\n",
        "Hint: as a method it should be able to give you distance from <0,0>"
      ]
    },
    {
      "cell_type": "code",
      "metadata": {
        "id": "s8HjP0HSXG37",
        "colab_type": "code",
        "outputId": "2f1a7555-b4e9-471b-b788-fecb1e4d432b",
        "colab": {
          "base_uri": "https://localhost:8080/",
          "height": 87
        }
      },
      "source": [
        "import math\n",
        "class Point():\n",
        "    def __init__(self, initX = 0, initY = 0):\n",
        "        self.x = initX\n",
        "        self.y = initY\n",
        "\n",
        "    def report(self):\n",
        "        print(\"I am a point, at x =\", self.x, \", y =\", self.y)\n",
        "\n",
        "    def distanceFromZero(self):\n",
        "        return (math.sqrt(self.x*self.x + self.y*self.y ))\n",
        "\n",
        "p1 = Point()\n",
        "p1.report()\n",
        "print(p1.distanceFromZero())\n",
        "\n",
        "p2 = Point(1,1)\n",
        "p2.report()\n",
        "print(p2.distanceFromZero())\n"
      ],
      "execution_count": 0,
      "outputs": [
        {
          "output_type": "stream",
          "text": [
            "I am a point, at x = 0 , y = 0\n",
            "0.0\n",
            "I am a point, at x = 1 , y = 1\n",
            "1.4142135623730951\n"
          ],
          "name": "stdout"
        }
      ]
    }
  ]
}